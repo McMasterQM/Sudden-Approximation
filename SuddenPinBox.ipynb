{
 "cells": [
  {
   "cell_type": "markdown",
   "metadata": {},
   "source": [
    "# Sudden Approximation for the Particle-in-a-Box\n",
    "\n",
    "## The Sudden Approximation\n",
    "As an introduction to time-dependent phenomena, we want to start with a situation where the Hamiltonian changes abruptly. For example,\n",
    "$$\n",
    "\\hat{H}(x) = \n",
    "\\begin{cases}\n",
    "\\hat{H}_a(x) & t \\le 0 \\\\\n",
    "\\hat{H}_b(x) & t > 0\n",
    "\\end{cases}\n",
    "$$\n",
    "\n",
    "Of course, in reality, a system never changes infinitely quickly. However, there are cases where the change in the Hamiltonian associated with a system is much faster than the relaxation time of the system. A typical example is radioactive decay, wherein the identity of an atomic nucleus changes on a timescale that is, from the viewpoint of the electrons in the system, nearly instantaneous. \n",
    "\n",
    "Suppose we have solved the Schr&ouml;dinger equation for the initial and final Hamiltonians,\n",
    "$$\n",
    "\\begin{align}\n",
    "\\hat{H}_a(x) \\psi_{a,n}(x) &= E_{a,n} \\psi_{a,n}(x) \\\\\n",
    "\\hat{H}_b(x) \\psi_{b,n}(x) &= E_{b,n} \\psi_{b,n}(x)\n",
    "\\end{align}\n",
    "$$\n",
    "\n",
    "Let's assume that the system is originally in a stationary state, described by the quantum number $n=n_0$. Because the Hamiltonian is time-dependent, we need to consider the time-dependent wavefunctions. [Recall](https://qchem.qc-edu.org/ipynb/SchrodingerEq.html#the-time-independent-schrodinger-equation-tise) that the solution to the (time-dependent) Schr&ouml;dinger equation for a Hamiltonian that is not changing in time has the form\n",
    "$$\n",
    "\\Psi_{a;n_0}(x,t) = \\psi_{a,n_0}(x)e^{\\tfrac{-iE_{a,n_0}t}{\\hbar}} \n",
    "$$\n",
    "This is the wavefunction for $t<0$. The Hamiltonian for $t>0$ also is not changing, and so the Schr&ouml;dinger equation for $t>0$ has a solution like\n",
    "$$\n",
    "\\Psi_b(x,t) = \\sum_{n=0}^{\\infty} c_n \\Psi_{b;n}(x,t)\n",
    "$$\n",
    "where\n",
    "$$\n",
    "\\Psi_{b;n}(x,t) = \\psi_{b,n}(x)e^{\\tfrac{-iE_{b,n}t}{\\hbar}} \n",
    "$$\n",
    "The fact this is a solution to the time-dependent Schr&ouml;dinger equation follows from the completeness of the eigenfunctions of a Hermitian operator (here, $\\hat{H}_b$) and direct substitution,\n",
    "$$\n",
    "\\begin{align}\n",
    "\\hat{H}_b \\sum_{n=0}^{\\infty} c_n \\psi_{b,n}(x)e^{\\tfrac{-iE_{b,n}t}{\\hbar}}\n",
    "&= i \\hbar \\frac{d}{dt}c_n \\psi_{b,n}(x)e^{\\tfrac{-iE_{b,n}t}{\\hbar}} //\n",
    "\\sum_{n=0}^{\\infty} c_n E_{b,n}\\psi_{b,n}(x)e^{\\tfrac{-iE_{b,n}t}{\\hbar}} \n",
    "&= -i^2 \\tfrac{\\hbar}{\\hbar} \\sum_{n=0}^{\\infty} c_n E_{b,n}\\psi_{b,n}(x)e^{\\tfrac{-iE_{b,n}t}{\\hbar}} \n",
    "\\end{align}\n",
    "$$\n",
    "\n",
    "\n",
    "Intuitively, then, we know that wavefunction for $t \\le 0$ is \n"
   ]
  },
  {
   "cell_type": "markdown",
   "metadata": {},
   "source": []
  }
 ],
 "metadata": {
  "language_info": {
   "name": "python"
  },
  "orig_nbformat": 4
 },
 "nbformat": 4,
 "nbformat_minor": 2
}
